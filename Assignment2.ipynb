{
 "cells": [
  {
   "cell_type": "markdown",
   "id": "31d3d719",
   "metadata": {},
   "source": [
    "Question 1. 1.What are the two values of the Boolean data type? How do you write them?"
   ]
  },
  {
   "cell_type": "markdown",
   "id": "7a29b968",
   "metadata": {},
   "source": [
    "Answer 1. The two values of the Boolean data types are :\n",
    "1. \"True\"\n",
    "2. \"False\"\n",
    "We can assign these values to a vaiable in Python.\n",
    "Please make sure when writing do not forget to capitalise the first letter."
   ]
  },
  {
   "cell_type": "markdown",
   "id": "1b14f185",
   "metadata": {},
   "source": [
    "Question 2. What are the three different types of Boolean operators?"
   ]
  },
  {
   "cell_type": "markdown",
   "id": "472c67b2",
   "metadata": {},
   "source": [
    "Answer 2. The three different types of Boolean operators are as follows :\n",
    "1. AND operator : This operator only return true when both of the operands are \"True\"\n",
    "2. OR operator : This operator return true when at least one of the operands is \"True\".\n",
    "3. NOT operator : This operator negates the truth value of the operand.It is represented by the symbol \"!\" and the word \"NOT\"."
   ]
  },
  {
   "cell_type": "markdown",
   "id": "79ebf45c",
   "metadata": {},
   "source": [
    "Question 3. Make a list of each Boolean operator's truth tables (i.e. every possible combination of Boolean values for the operator and what it evaluate )."
   ]
  },
  {
   "cell_type": "markdown",
   "id": "15cbcabd",
   "metadata": {},
   "source": [
    "Answer 3. The list of each Boolean operator's Truth Table is as follows :\n",
    "\n",
    "AND Operator :\n",
    "\n",
    "Input1           Input2       Output\n",
    "0                 0            0\n",
    "0                 1            0\n",
    "1                 0            0\n",
    "1                 1            1\n",
    "\n",
    "\n",
    "OR Operator :\n",
    "\n",
    "Input1           Input2       Output\n",
    "0                 0            0\n",
    "0                 1            1\n",
    "1                 0            1\n",
    "1                 1            1\n",
    "\n",
    "NOT Operator :\n",
    "\n",
    "Input          Output      \n",
    "0                 1       \n",
    "1                 0           \n",
    "           "
   ]
  },
  {
   "cell_type": "markdown",
   "id": "9f379e3d",
   "metadata": {},
   "source": [
    "Question 4. What are the values of the following expressions?\n",
    "(5>4) and (3==5)\n",
    "not(5>4)\n",
    "(5>4) or (3==5)\n",
    "not((5>4) or (3==5))\n",
    "(True and True) and (True == False)\n",
    "(not False) or (not True)"
   ]
  },
  {
   "cell_type": "markdown",
   "id": "9cbee6da",
   "metadata": {},
   "source": [
    "Answer 4 . \n",
    "\n",
    "Input                                 Output          Explanation          Abbreviations :\n",
    "(5>4) and (3==5)                       False          1 and 0 = 0          1 = True\n",
    "not(5>4)                               False          !True = False        0 = False\n",
    "(5>4) or (3==5)                        True           1 or 0 = True        !True = False = 0\n",
    "not((5>4) or (3==5))                   False          !True or 0 = 0       !False = True\n",
    "(True and True) and (True == False)    False          (1+1) and 0 = 0\n",
    "(not False) or (not True)              True           !False or !True(1 or 0 = 1)"
   ]
  },
  {
   "cell_type": "markdown",
   "id": "a9427c74",
   "metadata": {},
   "source": [
    "Question 5. What are the six comparison operators?"
   ]
  },
  {
   "cell_type": "raw",
   "id": "64eeb529",
   "metadata": {},
   "source": [
    "Answer 5. \n",
    "\n",
    "The six comparison operators in programming are:\n",
    "\n",
    "1.  > (greater than) - Returns true if the left operand is greater than the right operand, otherwise false.\n",
    "\n",
    "2.  < (less than) - Returns true if the left operand is less than the right operand, otherwise false.\n",
    "\n",
    "3.  >= (greater than or equal to) - Returns true if the left operand is greater than or equal to the right operand, otherwise false.\n",
    "\n",
    "4.  <= (less than or equal to) - Returns true if the left operand is less than or equal to the right operand, otherwise false.\n",
    "\n",
    "5.  == (equal to) - Returns true if the left operand is equal to the right operand, otherwise false.\n",
    "\n",
    "6.  != (not equal to) - Returns true if the left operand is not equal to the right operand, otherwise false.\n",
    "\n",
    "These operators are commonly used in conditional statements or loops to compare values and make decisions based on the comparison result."
   ]
  },
  {
   "cell_type": "raw",
   "id": "37ea1d7b",
   "metadata": {},
   "source": [
    "Question 6. How do you tell the difference between the equal to and assignment operators?Describe a condition and when you would use one."
   ]
  },
  {
   "cell_type": "raw",
   "id": "914d6eda",
   "metadata": {},
   "source": [
    "Answer 6.\n",
    "In Python '=' is used both as an assignment and comparison operator. The basic difference which makes them different from each other is the amount of repetition.\n",
    "\n",
    "suppose for example :\n",
    "a = 10 ( Here, we are using it as an assignment operator since \"=\" is used once).\n",
    "a == 10 (Here, we are using it as an comparison operator since \"=\" is used twice.\n",
    "\n",
    "Condition which explains it best is as follows :\n",
    "\n",
    "Assignment Operator :\n",
    "a = 20\n",
    "b = 30\n",
    "print(a+b)\n",
    "Output - 50\n",
    "\n",
    "Comparison operator :\n",
    "\n",
    "s = int(input(\"Enter Your age : )\n",
    "if s == 18 :\n",
    "    print(\"You're eligible to vote\")\n",
    "else :\n",
    "    print(\"You are too young to vote\")"
   ]
  },
  {
   "cell_type": "raw",
   "id": "d0eed726",
   "metadata": {},
   "source": [
    "Question 7. Identify the three blocks in this code:\n",
    "spam = 0\n",
    "if spam == 10\n",
    "print(\"eggs\")\n",
    "if spam > 5 :\n",
    "print(\"Bacon\")\n",
    "else :\n",
    "print(\"ham\")\n",
    "print(\"spam\")\n",
    "print(\"spam\")"
   ]
  },
  {
   "cell_type": "code",
   "execution_count": 13,
   "id": "a2fa4544",
   "metadata": {},
   "outputs": [
    {
     "name": "stdout",
     "output_type": "stream",
     "text": [
      "ham\n",
      "spam\n",
      "spam\n"
     ]
    }
   ],
   "source": [
    "# Answer 7. \n",
    "spam = 0\n",
    "if spam == 10 :\n",
    "    print(\"eggs\")\n",
    "if spam > 5 :\n",
    "    print(\"Bacon\")\n",
    "else :\n",
    "    print(\"ham\")\n",
    "    print(\"spam\")\n",
    "    print(\"spam\")"
   ]
  },
  {
   "cell_type": "raw",
   "id": "267998d2",
   "metadata": {},
   "source": [
    "Question 8 . Write code that prints Hello if 1 is stored in spam, prints Howdy if 2 is stored in spam, and prints\n",
    "Greetings! if anything else is stored in spam."
   ]
  },
  {
   "cell_type": "code",
   "execution_count": 16,
   "id": "58aeb069",
   "metadata": {},
   "outputs": [
    {
     "name": "stdout",
     "output_type": "stream",
     "text": [
      "Enter a number : 1\n",
      "Hello\n"
     ]
    }
   ],
   "source": [
    "# Answer 8 .\n",
    "\n",
    "spam = int(input(\"Enter a number : \"))\n",
    "if spam == 1 :\n",
    "    print(\"Hello\")\n",
    "elif spam == 2 :\n",
    "    print(\"Howdy\")\n",
    "else :\n",
    "    print(\"Greetings!\")"
   ]
  },
  {
   "cell_type": "raw",
   "id": "b678a4f3",
   "metadata": {},
   "source": [
    "Question 9. If your programme is stuck in an endless loop, what keys you’ll press?"
   ]
  },
  {
   "cell_type": "raw",
   "id": "53b16ecd",
   "metadata": {},
   "source": [
    "Answer 9. \n",
    "This generally happens in a 'while' loop and if we get stuck into that then first we will click on Kernel present on the navigation bar. ANd under that we will click on interrupt Kernel. And Finally we will click on restart Kernel.\n",
    "Following the above process we can come out of an Endless loop."
   ]
  },
  {
   "cell_type": "raw",
   "id": "2807e394",
   "metadata": {},
   "source": [
    "Question 10. How can you tell the difference between break and continue?"
   ]
  },
  {
   "cell_type": "raw",
   "id": "a655c011",
   "metadata": {},
   "source": [
    "Answer 10.\n",
    "\"break\" and \"continue\" are the two keywords which are used inside loops(for and while) to change the flow of the statements.\n",
    "\n",
    "\"break\" : Now what break does is whenever it is placed inside the loop it terminates the loop and resumes the execution at the next statement outside the loop. It is typically used to exit a loop early when a certain condition is met.\n",
    "\n",
    "for example : \n",
    "for i in range(20) :\n",
    "    if i == 12 :\n",
    "        break\n",
    "    print(i)\n",
    "    \n",
    "Whereas, \"continue\" is when placed inside a looop it skips the current iteration of the loop and moves on to the next iteration.\n",
    "\n",
    "for example :\n",
    "for i in range(20):\n",
    "    if i == 12 :\n",
    "        continue\n",
    "    print(i)\n",
    "    \n",
    "From the above we can easily differentiate between these two."
   ]
  },
  {
   "cell_type": "raw",
   "id": "5be84c5a",
   "metadata": {},
   "source": [
    "Question 11. In a for loop, what is the difference between range(10), range(0, 10), and range(0, 10, 1)?"
   ]
  },
  {
   "cell_type": "raw",
   "id": "b60c5403",
   "metadata": {},
   "source": [
    "Answer 11. \n",
    "In my opinion the all three given in the question makes no diffence at all in the output.\n",
    "But what it makes is different syntax.\n",
    "\n",
    "in range(10) by default the initial position is taken as 0 and atep size as 1. The output would be sequence of integers from 0 to 9 as the upper bound is the last item provided -1.\n",
    "whereas, in range(0,10) it is same as the above it is just that you've mentioned the lower bound as 0. The out will remains the same.\n",
    "in range(0,10,1) the step size is also mentioned which is by default 1 hence it will also goinf to give you the same output.\n",
    "\n",
    "In summary, all three of these expressions generate the same sequence of integers in a for loop. However, specifying the start and step values explicitly can be useful in other contexts, such as when you want to loop over a sequence of numbers that doesn't start at 0 or doesn't increment by 1."
   ]
  },
  {
   "cell_type": "raw",
   "id": "f7b2460a",
   "metadata": {},
   "source": [
    "Question 12. Write a short program that prints the numbers 1 to 10 using a for loop. Then write an equivalent\n",
    "program that prints the numbers 1 to 10 using a while loop."
   ]
  },
  {
   "cell_type": "code",
   "execution_count": 3,
   "id": "2b587f09",
   "metadata": {},
   "outputs": [
    {
     "name": "stdout",
     "output_type": "stream",
     "text": [
      "1\n",
      "2\n",
      "3\n",
      "4\n",
      "5\n",
      "6\n",
      "7\n",
      "8\n",
      "9\n",
      "10\n"
     ]
    }
   ],
   "source": [
    "# # Answer 12.\n",
    "# programme using a for loop : \n",
    "\n",
    "for i in range(1,11) :\n",
    "    print(i)"
   ]
  },
  {
   "cell_type": "code",
   "execution_count": 1,
   "id": "d5bc1d31",
   "metadata": {},
   "outputs": [
    {
     "name": "stdout",
     "output_type": "stream",
     "text": [
      "1\n",
      "2\n",
      "3\n",
      "4\n",
      "5\n",
      "6\n",
      "7\n",
      "8\n",
      "9\n",
      "10\n"
     ]
    }
   ],
   "source": [
    "# programme using while loop :\n",
    "\n",
    "i = 1\n",
    "while i <= 10:\n",
    "    print(i)\n",
    "    i = i+1"
   ]
  },
  {
   "cell_type": "raw",
   "id": "7b1db8b6",
   "metadata": {},
   "source": [
    "Question 13. If you had a function named bacon() inside a module named spam, how would you call it after\n",
    "importing spam?"
   ]
  },
  {
   "cell_type": "raw",
   "id": "89fbc9ed",
   "metadata": {},
   "source": [
    "# Answer 13. \n",
    "\n",
    "After importing the spam module in Python, you can call the bacon() function using the following syntax:\n",
    "\n",
    "import spam\n",
    "spam.bacon()\n",
    "This will execute the bacon() function defined inside the spam module."
   ]
  },
  {
   "cell_type": "code",
   "execution_count": null,
   "id": "155d0210",
   "metadata": {},
   "outputs": [],
   "source": []
  },
  {
   "cell_type": "code",
   "execution_count": null,
   "id": "1d97221c",
   "metadata": {},
   "outputs": [],
   "source": []
  }
 ],
 "metadata": {
  "kernelspec": {
   "display_name": "Python 3 (ipykernel)",
   "language": "python",
   "name": "python3"
  },
  "language_info": {
   "codemirror_mode": {
    "name": "ipython",
    "version": 3
   },
   "file_extension": ".py",
   "mimetype": "text/x-python",
   "name": "python",
   "nbconvert_exporter": "python",
   "pygments_lexer": "ipython3",
   "version": "3.9.7"
  }
 },
 "nbformat": 4,
 "nbformat_minor": 5
}
