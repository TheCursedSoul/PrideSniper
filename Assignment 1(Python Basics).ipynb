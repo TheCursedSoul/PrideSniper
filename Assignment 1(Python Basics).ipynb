{
 "cells": [
  {
   "cell_type": "raw",
   "id": "b3f6bb42",
   "metadata": {},
   "source": [
    "# Question 1 . In the below elements which of them are values or an expression? eg:- values can be integer or string and expressions will be mathematical operators.\n",
    "*\n",
    "&#39;hello&#39;\n",
    "-87.8\n",
    "-\n",
    "/\n",
    "+\n",
    "6"
   ]
  },
  {
   "cell_type": "markdown",
   "id": "49cada31",
   "metadata": {},
   "source": [
    "Answer 1 . In the above question we can easily differentiate between values and expressions.\n",
    "Values are as follows :\n",
    "    'hello'\n",
    "    -87.8\n",
    "     6\n",
    "    \n",
    "And the mathematical operators are :\n",
    "    -\n",
    "    /\n",
    "    +\n",
    "    *"
   ]
  },
  {
   "cell_type": "markdown",
   "id": "cec7d27e",
   "metadata": {},
   "source": [
    "Question 2. What is the difference between string and variable?"
   ]
  },
  {
   "cell_type": "markdown",
   "id": "71c15e40",
   "metadata": {},
   "source": [
    "Answer 2.\n",
    "\n",
    "String : A datatype called a string represents a series of characters. These are always encased in quotes (either single or double quotes). Strings, which are frequently used to represent text can comprise letters, numbers and special characters.\n",
    "some examples : 'Kritesh' is a string also \"Kritesh Diwakar\" is also a string and '''Kritesh Diwakar''' is also a string.\n",
    "\n",
    "Variables : A variable is a named container that has space for a value and can store values in it. Data that can changed and altered. Any data type, including texts, integers, and floating-point numbers, can be used to represent a value for a variable. These are used in programming to change data or to store data basically the main difference between a string and a variable is that a string is a specific type of data, whereas a variable is a named container that can hold any type of data, including strings. \n",
    "\n",
    "example : \n",
    "a = 20\n",
    "where a is a variable\n",
    "b = \"Kritesh Diwakar\"\n",
    "b is also a variable\n",
    "And please see that they cannot start with any number they can be initialised with a _."
   ]
  },
  {
   "cell_type": "code",
   "execution_count": null,
   "id": "ac3cf006",
   "metadata": {},
   "outputs": [],
   "source": [
    "Question 3. Describe three different data types...??"
   ]
  },
  {
   "cell_type": "raw",
   "id": "a284ad10",
   "metadata": {},
   "source": [
    "Answer 3\n",
    "\n",
    "There are many data types in python which arre as follows :\n",
    "1. String\n",
    "2. List\n",
    "3. Tuples\n",
    "4. Dictionaries\n",
    "5. Set\n",
    "6. Boolean\n",
    "\n",
    "List : A list is generally an ordered collection of objects which are enclosed in square brackets and muist be separated by commas.\n",
    "for example : a = [1,2,3,4,5,6,7]\n",
    "here 'a' is a variable that holds the data type known as list.\n",
    "\n",
    "Tuples : A tuple is also a collection of data but they are unordered in nature and the main difference is that the data in a tuple is immutable in nature. They are enclosed in a parenthesis.\n",
    "for example : c = (\"Kritesh\" , \"Diwakar\" , 1.0 , 965441, True) is an exaple of tuple.\n",
    "\n",
    "Boolean : It is the most simple data type which returns the value only inn \"True\" or \"False\"\n",
    "for example :"
   ]
  },
  {
   "cell_type": "code",
   "execution_count": 1,
   "id": "cbea7569",
   "metadata": {},
   "outputs": [
    {
     "data": {
      "text/plain": [
       "True"
      ]
     },
     "execution_count": 1,
     "metadata": {},
     "output_type": "execute_result"
    }
   ],
   "source": [
    "l = [1,2,3,4,5,6,789]\n",
    "5 in l"
   ]
  },
  {
   "cell_type": "code",
   "execution_count": 2,
   "id": "be42d9d5",
   "metadata": {},
   "outputs": [
    {
     "data": {
      "text/plain": [
       "False"
      ]
     },
     "execution_count": 2,
     "metadata": {},
     "output_type": "execute_result"
    }
   ],
   "source": [
    "l = [1,2,3,4,5,6,789]\n",
    "\"Kritesh\" in l"
   ]
  },
  {
   "cell_type": "raw",
   "id": "bd21d3d5",
   "metadata": {},
   "source": [
    "Question 4. What is an expression made up of? What do all expressions do?"
   ]
  },
  {
   "cell_type": "raw",
   "id": "1fba0516",
   "metadata": {},
   "source": [
    "Answer 4.\n",
    "\n",
    "Expression : An expression is a mixture of operands amd operators. ALso, these two are when combined produces a result after the python interpreter reads the expression. Expression contains identifiers, literals and operators\n",
    "\n",
    "for example\n",
    "x = 8-3/4+6\n",
    "There different types of expressions in python :\n",
    "\n",
    "Arithmetic Expressions.\n",
    "Integral Expressions.\n",
    "Floating Expressions.\n",
    "Relational Expressions.\n",
    "Logical Expressions.\n",
    "Bitwise Expressions.\n",
    "Combinational Expressions.\n",
    "\n",
    "In the end if we sum up then we will get that expressions are used to perform computations, manipulate data and control program flow."
   ]
  },
  {
   "cell_type": "raw",
   "id": "25bee4d7",
   "metadata": {},
   "source": [
    "Question 5.  This assignment statements, like spam = 10. What is the difference between an\n",
    "expression and a statement?"
   ]
  },
  {
   "cell_type": "markdown",
   "id": "7f8efad8",
   "metadata": {},
   "source": [
    "Answer 5.\n",
    "From the above question we can see that spam = 10 and here spam is a variable which stores an integer value 10. Also, we know that an expression is a combination of one or more values, variables, operators, and functions that can be evaluated to produce a result.\n",
    "\n",
    "Whereas,a statement is a complete line of code that performs some action. Statements such as conditional statements (if-else), loops (for, while), and function definitions.\n",
    "\n",
    "If we wants to sum up in the end then an expression is a piece of code that evaluates to a value, whereas a statement is a complete instruction that performs an action."
   ]
  },
  {
   "cell_type": "markdown",
   "id": "f5d74bf3",
   "metadata": {},
   "source": [
    "Question 6. After running the following code, what does the variable bacon contain?\n",
    "bacon = 22\n",
    "bacon + 1"
   ]
  },
  {
   "cell_type": "code",
   "execution_count": 5,
   "id": "e9822d17",
   "metadata": {},
   "outputs": [
    {
     "name": "stdout",
     "output_type": "stream",
     "text": [
      "22\n"
     ]
    }
   ],
   "source": [
    "# Answer 6 . \n",
    "bacon = 22\n",
    "bacon + 1\n",
    "print(bacon)"
   ]
  },
  {
   "cell_type": "markdown",
   "id": "01fbcd45",
   "metadata": {},
   "source": [
    "7. What should the values of the following two terms be?\n",
    "'spam' + 'spamspam'\n",
    "'spam'* 3"
   ]
  },
  {
   "cell_type": "code",
   "execution_count": 11,
   "id": "4d7d1eac",
   "metadata": {},
   "outputs": [
    {
     "name": "stdout",
     "output_type": "stream",
     "text": [
      "spamspamspam\n",
      "spamspamspam\n"
     ]
    }
   ],
   "source": [
    "# Answer 7.\n",
    "g = 'spam' + 'spamspam'\n",
    "h = 'spam'* 3\n",
    "print(g)\n",
    "print(h)"
   ]
  },
  {
   "cell_type": "markdown",
   "id": "a2b1ee05",
   "metadata": {},
   "source": [
    "Question 8. Why is eggs a valid variable name while 100 is invalid?"
   ]
  },
  {
   "cell_type": "markdown",
   "id": "99013ed0",
   "metadata": {},
   "source": [
    "Answer 8 . \n",
    "In the above question eggs is a valid variable name whereas 100 doesn't because of the fact that the variable can never be an interger value and can start with an underscore(_)"
   ]
  },
  {
   "cell_type": "markdown",
   "id": "982d59af",
   "metadata": {},
   "source": [
    "Question 9. What three functions can be used to get the integer, floating-point number, or string\n",
    "version of a value?"
   ]
  },
  {
   "cell_type": "markdown",
   "id": "6f7706e7",
   "metadata": {},
   "source": [
    "Answer 9. The three functions can be used to get the integer, floating-point number, or string\n",
    "version of a value are as follows :\n",
    "\n",
    "1. int() : This function is used to convert a value to an integer value. If the value is a floating point number then by using this function we will get the result of the nearest value of integer.\n",
    "for example : int(9.99)\n",
    "output : 9\n",
    "\n",
    "2 . float() : this function is basically used to convert an integer value to a floating point number.\n",
    "For example: float(9)\n",
    "output : 9.0\n",
    "\n",
    "3. str() : This function is used to conver the value or the input to the string output.\n",
    "For example: str(96)\n",
    "output : '96'\n",
    "\n",
    "And you can check the type of the above by using type() function."
   ]
  },
  {
   "cell_type": "markdown",
   "id": "2b3ee595",
   "metadata": {},
   "source": [
    "Question 10. Why does this expression cause an error? How can you fix it?\n",
    "'I have eaten' + 99 + 'burritos'"
   ]
  },
  {
   "cell_type": "markdown",
   "id": "08050a8c",
   "metadata": {},
   "source": [
    "Answer 10. The above expression will display an error on execution as the above query has 3 parts : str() + int() + str().\n",
    "hence on execution we need to typecaste the above sentence whole into a str() since concatenation is only be possible in same class.\n",
    "\n",
    "we can fix it in the following way :\n",
    "Solution  : 'I have eaten ' + str(99) + ' burritos'"
   ]
  },
  {
   "cell_type": "code",
   "execution_count": null,
   "id": "e2c4debb",
   "metadata": {},
   "outputs": [],
   "source": []
  },
  {
   "cell_type": "code",
   "execution_count": null,
   "id": "e2d39fea",
   "metadata": {},
   "outputs": [],
   "source": []
  },
  {
   "cell_type": "code",
   "execution_count": null,
   "id": "c80ab902",
   "metadata": {},
   "outputs": [],
   "source": []
  },
  {
   "cell_type": "code",
   "execution_count": null,
   "id": "c5cb1043",
   "metadata": {},
   "outputs": [],
   "source": []
  },
  {
   "cell_type": "code",
   "execution_count": null,
   "id": "edaeef0e",
   "metadata": {},
   "outputs": [],
   "source": []
  },
  {
   "cell_type": "code",
   "execution_count": null,
   "id": "1780d070",
   "metadata": {},
   "outputs": [],
   "source": []
  },
  {
   "cell_type": "code",
   "execution_count": null,
   "id": "2b228d80",
   "metadata": {},
   "outputs": [],
   "source": []
  },
  {
   "cell_type": "code",
   "execution_count": null,
   "id": "082c0c35",
   "metadata": {},
   "outputs": [],
   "source": []
  },
  {
   "cell_type": "code",
   "execution_count": null,
   "id": "9734603c",
   "metadata": {},
   "outputs": [],
   "source": []
  },
  {
   "cell_type": "code",
   "execution_count": null,
   "id": "11c571ce",
   "metadata": {},
   "outputs": [],
   "source": []
  },
  {
   "cell_type": "code",
   "execution_count": null,
   "id": "53bface9",
   "metadata": {},
   "outputs": [],
   "source": []
  },
  {
   "cell_type": "code",
   "execution_count": null,
   "id": "025ec573",
   "metadata": {},
   "outputs": [],
   "source": []
  },
  {
   "cell_type": "code",
   "execution_count": null,
   "id": "5b533ce1",
   "metadata": {},
   "outputs": [],
   "source": []
  },
  {
   "cell_type": "code",
   "execution_count": null,
   "id": "1c3adac6",
   "metadata": {},
   "outputs": [],
   "source": []
  },
  {
   "cell_type": "code",
   "execution_count": null,
   "id": "3ea7aa28",
   "metadata": {},
   "outputs": [],
   "source": []
  },
  {
   "cell_type": "code",
   "execution_count": null,
   "id": "0ae315c1",
   "metadata": {},
   "outputs": [],
   "source": []
  },
  {
   "cell_type": "code",
   "execution_count": null,
   "id": "d1b5ffa0",
   "metadata": {},
   "outputs": [],
   "source": []
  },
  {
   "cell_type": "code",
   "execution_count": null,
   "id": "b3b6836d",
   "metadata": {},
   "outputs": [],
   "source": []
  }
 ],
 "metadata": {
  "kernelspec": {
   "display_name": "Python 3 (ipykernel)",
   "language": "python",
   "name": "python3"
  },
  "language_info": {
   "codemirror_mode": {
    "name": "ipython",
    "version": 3
   },
   "file_extension": ".py",
   "mimetype": "text/x-python",
   "name": "python",
   "nbconvert_exporter": "python",
   "pygments_lexer": "ipython3",
   "version": "3.9.7"
  }
 },
 "nbformat": 4,
 "nbformat_minor": 5
}
